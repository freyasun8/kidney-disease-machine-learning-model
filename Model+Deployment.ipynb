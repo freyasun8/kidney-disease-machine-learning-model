{
 "cells": [
  {
   "cell_type": "code",
   "execution_count": 13,
   "id": "be4f45f6",
   "metadata": {},
   "outputs": [],
   "source": [
    "#Make necessary imports\n",
    "import warnings\n",
    "warnings.filterwarnings(\"ignore\")\n",
    "\n",
    "import numpy as np\n",
    "import pandas as pd\n",
    "import os, sys\n",
    "import lux\n",
    "from sklearn.preprocessing import MinMaxScaler\n",
    "from xgboost import XGBClassifier\n",
    "from sklearn.model_selection import train_test_split\n",
    "from sklearn.metrics import accuracy_score\n",
    "import seaborn as sns\n",
    "sns.set()"
   ]
  },
  {
   "cell_type": "code",
   "execution_count": 14,
   "id": "607aa365",
   "metadata": {},
   "outputs": [
    {
     "data": {
      "application/vnd.jupyter.widget-view+json": {
       "model_id": "c30aa7b4dbb64a58a3094dfea2d38f11",
       "version_major": 2,
       "version_minor": 0
      },
      "text/plain": [
       "Button(description='Toggle Pandas/Lux', layout=Layout(top='5px', width='140px'), style=ButtonStyle())"
      ]
     },
     "metadata": {},
     "output_type": "display_data"
    },
    {
     "data": {
      "application/vnd.jupyter.widget-view+json": {
       "model_id": "11374c191f434f1a9a3677ba13a9d174",
       "version_major": 2,
       "version_minor": 0
      },
      "text/plain": [
       "Output()"
      ]
     },
     "metadata": {},
     "output_type": "display_data"
    }
   ],
   "source": [
    "df = pd.read_csv('kidney_disease.csv')[['age','wc','htn','dm','classification']]\n",
    "df.head(n=10)"
   ]
  },
  {
   "cell_type": "code",
   "execution_count": 15,
   "id": "582e0232",
   "metadata": {},
   "outputs": [
    {
     "data": {
      "application/vnd.jupyter.widget-view+json": {
       "model_id": "5d4043e2c1504b71907da170afd39460",
       "version_major": 2,
       "version_minor": 0
      },
      "text/plain": [
       "Button(description='Toggle Pandas/Lux', layout=Layout(top='5px', width='140px'), style=ButtonStyle())"
      ]
     },
     "metadata": {},
     "output_type": "display_data"
    },
    {
     "data": {
      "application/vnd.jupyter.widget-view+json": {
       "model_id": "2852146d6fb747bbabdd3deaba5b5aad",
       "version_major": 2,
       "version_minor": 0
      },
      "text/plain": [
       "Output()"
      ]
     },
     "metadata": {},
     "output_type": "display_data"
    }
   ],
   "source": [
    "#find null Values in the data set\n",
    "\n",
    "df.isnull().sum()"
   ]
  },
  {
   "cell_type": "code",
   "execution_count": 16,
   "id": "51e47c71",
   "metadata": {},
   "outputs": [
    {
     "data": {
      "application/vnd.jupyter.widget-view+json": {
       "model_id": "2342587cf53b4358a20daa4838c28350",
       "version_major": 2,
       "version_minor": 0
      },
      "text/plain": [
       "Button(description='Toggle Pandas/Lux', layout=Layout(top='5px', width='140px'), style=ButtonStyle())"
      ]
     },
     "metadata": {},
     "output_type": "display_data"
    },
    {
     "data": {
      "application/vnd.jupyter.widget-view+json": {
       "model_id": "14a1d8c331f0419aa29c1e18f7d361f2",
       "version_major": 2,
       "version_minor": 0
      },
      "text/plain": [
       "Output()"
      ]
     },
     "metadata": {},
     "output_type": "display_data"
    }
   ],
   "source": [
    "# Impuing Null values\n",
    "\n",
    "from sklearn.impute import SimpleImputer\n",
    "imp_mode = SimpleImputer(missing_values=np.nan, strategy='most_frequent')\n",
    "\n",
    "df_imputed=pd.DataFrame(imp_mode.fit_transform(df))\n",
    "df_imputed.columns=df.columns\n",
    "df_imputed"
   ]
  },
  {
   "cell_type": "code",
   "execution_count": 17,
   "id": "4ce8e991",
   "metadata": {},
   "outputs": [
    {
     "name": "stdout",
     "output_type": "stream",
     "text": [
      "************************************************* age ************************************************************\n",
      "\n",
      "{2.0, 3.0, 4.0, 5.0, 6.0, 7.0, 8.0, 11.0, 12.0, 14.0, 15.0, 17.0, 19.0, 20.0, 21.0, 22.0, 23.0, 24.0, 25.0, 26.0, 27.0, 28.0, 29.0, 30.0, 32.0, 33.0, 34.0, 35.0, 36.0, 37.0, 38.0, 39.0, 40.0, 41.0, 42.0, 43.0, 44.0, 45.0, 46.0, 47.0, 48.0, 49.0, 50.0, 51.0, 52.0, 53.0, 54.0, 55.0, 56.0, 57.0, 58.0, 59.0, 60.0, 61.0, 62.0, 63.0, 64.0, 65.0, 66.0, 67.0, 68.0, 69.0, 70.0, 71.0, 72.0, 73.0, 74.0, 75.0, 76.0, 78.0, 79.0, 80.0, 81.0, 82.0, 83.0, 90.0}\n",
      "\n",
      "************************************************* wc ************************************************************\n",
      "\n",
      "{'12700', '\\t6200', '9200', '16300', '5400', '11800', '11900', '9000', '4300', '9400', '5100', '\\t?', '4200', '8000', '5700', '12800', '6400', '10200', '7300', '6500', '6900', '13600', '13200', '5000', '8300', '10700', '10800', '5800', '5600', '12400', '\\t8400', '11300', '11200', '4900', '9100', '9900', '14900', '8200', '9300', '8100', '4500', '4100', '5300', '12500', '12000', '6000', '18900', '10500', '7900', '3800', '21600', '9800', '11400', '8600', '16700', '10400', '7700', '2600', '6700', '4700', '26400', '9500', '5500', '7100', '5200', '11000', '7800', '7200', '2200', '11500', '7000', '9600', '6600', '6200', '15700', '12300', '12200', '14600', '6300', '7500', '12100', '9700', '10300', '15200', '7400', '10900', '6800', '5900', '8500', '8400', '19100', '8800'}\n",
      "\n",
      "************************************************* htn ************************************************************\n",
      "\n",
      "{'no', 'yes'}\n",
      "\n",
      "************************************************* dm ************************************************************\n",
      "\n",
      "{'\\tyes', ' yes', 'yes', '\\tno', 'no'}\n",
      "\n",
      "************************************************* classification ************************************************************\n",
      "\n",
      "{'ckd\\t', 'notckd', 'ckd'}\n",
      "\n"
     ]
    }
   ],
   "source": [
    "# Finding Unique values in the columns\n",
    "\n",
    "for i in df_imputed.columns:\n",
    "    print(\"*************************************************\",i,\"************************************************************\")\n",
    "    print()\n",
    "    print(set(df_imputed[i].tolist()))\n",
    "    print()"
   ]
  },
  {
   "cell_type": "code",
   "execution_count": 18,
   "id": "459b1ff4",
   "metadata": {},
   "outputs": [],
   "source": [
    "df_imputed[\"classification\"]=df_imputed[\"classification\"].apply(lambda x:'ckd' if x==\"ckd\\t\"  else x)\n",
    "\n",
    "df_imputed[\"dm\"]=df_imputed[\"dm\"].apply(lambda x:'no' if x==\"\\tno\"  else x)\n",
    "df_imputed[\"dm\"]=df_imputed[\"dm\"].apply(lambda x:'yes' if x==\"\\tyes\"  else x)\n",
    "df_imputed[\"dm\"]=df_imputed[\"dm\"].apply(lambda x:'yes' if x==' yes'  else x)\n",
    "\n",
    "\n",
    "df_imputed[\"wc\"]=df_imputed[\"wc\"].apply(lambda x:'9800' if x=='\\t6200'  else x)\n",
    "df_imputed[\"wc\"]=df_imputed[\"wc\"].apply(lambda x:'9800' if x=='\\t8400'  else x)\n",
    "df_imputed[\"wc\"]=df_imputed[\"wc\"].apply(lambda x:'9800' if x== '\\t?'  else x)\n",
    "\n"
   ]
  },
  {
   "cell_type": "code",
   "execution_count": 19,
   "id": "9291e7d8",
   "metadata": {},
   "outputs": [
    {
     "name": "stdout",
     "output_type": "stream",
     "text": [
      "************************************************* age ************************************************************\n",
      "\n",
      "{2.0, 3.0, 4.0, 5.0, 6.0, 7.0, 8.0, 11.0, 12.0, 14.0, 15.0, 17.0, 19.0, 20.0, 21.0, 22.0, 23.0, 24.0, 25.0, 26.0, 27.0, 28.0, 29.0, 30.0, 32.0, 33.0, 34.0, 35.0, 36.0, 37.0, 38.0, 39.0, 40.0, 41.0, 42.0, 43.0, 44.0, 45.0, 46.0, 47.0, 48.0, 49.0, 50.0, 51.0, 52.0, 53.0, 54.0, 55.0, 56.0, 57.0, 58.0, 59.0, 60.0, 61.0, 62.0, 63.0, 64.0, 65.0, 66.0, 67.0, 68.0, 69.0, 70.0, 71.0, 72.0, 73.0, 74.0, 75.0, 76.0, 78.0, 79.0, 80.0, 81.0, 82.0, 83.0, 90.0}\n",
      "\n",
      "************************************************* wc ************************************************************\n",
      "\n",
      "{'12700', '9200', '16300', '5400', '11800', '11900', '9000', '4300', '9400', '5100', '4200', '8000', '5700', '12800', '6400', '10200', '7300', '6500', '6900', '13600', '13200', '5000', '8300', '10700', '10800', '5800', '5600', '12400', '11200', '11300', '4900', '9100', '9900', '14900', '8200', '9300', '8100', '4500', '4100', '5300', '12500', '12000', '6000', '18900', '10500', '7900', '3800', '21600', '9800', '11400', '8600', '16700', '10400', '7700', '2600', '6700', '4700', '26400', '9500', '5500', '7100', '5200', '11000', '7800', '7200', '2200', '11500', '7000', '9600', '6600', '6200', '15700', '12300', '12200', '14600', '6300', '7500', '12100', '9700', '10300', '15200', '7400', '10900', '6800', '5900', '8500', '8400', '19100', '8800'}\n",
      "\n",
      "************************************************* htn ************************************************************\n",
      "\n",
      "{'no', 'yes'}\n",
      "\n",
      "************************************************* dm ************************************************************\n",
      "\n",
      "{'no', 'yes'}\n",
      "\n",
      "************************************************* classification ************************************************************\n",
      "\n",
      "{'notckd', 'ckd'}\n",
      "\n"
     ]
    }
   ],
   "source": [
    "# Finding Unique values in the columns\n",
    "\n",
    "for i in df_imputed.columns:\n",
    "    print(\"*************************************************\",i,\"************************************************************\")\n",
    "    print()\n",
    "    print(set(df_imputed[i].tolist()))\n",
    "    print()"
   ]
  },
  {
   "cell_type": "code",
   "execution_count": 20,
   "id": "b6f42ff0",
   "metadata": {},
   "outputs": [],
   "source": [
    "df_imputed[\"wc\"]=df_imputed[\"wc\"].apply(lambda x: float(x))"
   ]
  },
  {
   "cell_type": "code",
   "execution_count": 21,
   "id": "380eb588",
   "metadata": {},
   "outputs": [
    {
     "name": "stdout",
     "output_type": "stream",
     "text": [
      "age                object\n",
      "wc                float64\n",
      "htn                object\n",
      "dm                 object\n",
      "classification     object\n",
      "dtype: object\n"
     ]
    }
   ],
   "source": [
    "df_imputed.dtypes"
   ]
  },
  {
   "cell_type": "code",
   "execution_count": 22,
   "id": "08cc8871",
   "metadata": {},
   "outputs": [
    {
     "data": {
      "application/vnd.jupyter.widget-view+json": {
       "model_id": "b67304bd24ec4ae5aa72d7a363880630",
       "version_major": 2,
       "version_minor": 0
      },
      "text/plain": [
       "Button(description='Toggle Pandas/Lux', layout=Layout(top='5px', width='140px'), style=ButtonStyle())"
      ]
     },
     "metadata": {},
     "output_type": "display_data"
    },
    {
     "data": {
      "application/vnd.jupyter.widget-view+json": {
       "model_id": "dc3c0df748a64e109f5d2d3122958239",
       "version_major": 2,
       "version_minor": 0
      },
      "text/plain": [
       "Output()"
      ]
     },
     "metadata": {},
     "output_type": "display_data"
    }
   ],
   "source": [
    "from sklearn import preprocessing\n",
    "\n",
    "df_enco=df_imputed.apply(preprocessing.LabelEncoder().fit_transform)\n",
    "df_enco"
   ]
  },
  {
   "cell_type": "code",
   "execution_count": 23,
   "id": "f6151498",
   "metadata": {},
   "outputs": [],
   "source": [
    "# Lets make some final changes to the data \n",
    "\n",
    "# Seperate independent and dependent variables and drop the ID column\n",
    "x=df_enco.drop([\"classification\"],axis=1)\n",
    "y=df_enco[\"classification\"]"
   ]
  },
  {
   "cell_type": "code",
   "execution_count": 24,
   "id": "42520523",
   "metadata": {},
   "outputs": [
    {
     "name": "stdout",
     "output_type": "stream",
     "text": [
      "Counter({0: 250, 1: 150})\n"
     ]
    }
   ],
   "source": [
    "# Lets detect the label balance\n",
    "from imblearn.over_sampling import RandomOverSampler\n",
    "from imblearn.under_sampling import RandomUnderSampler\n",
    "from collections import Counter\n",
    "\n",
    "print(Counter(y))"
   ]
  },
  {
   "cell_type": "code",
   "execution_count": 25,
   "id": "7e2ded0e",
   "metadata": {},
   "outputs": [
    {
     "name": "stdout",
     "output_type": "stream",
     "text": [
      "Counter({0: 250, 1: 250})\n"
     ]
    }
   ],
   "source": [
    "# Lets balance the labels\n",
    "\n",
    "ros = RandomOverSampler()\n",
    "\n",
    "X_ros, y_ros = ros.fit_resample(x, y)\n",
    "print(Counter(y_ros))"
   ]
  },
  {
   "cell_type": "code",
   "execution_count": 26,
   "id": "3024fb8e",
   "metadata": {},
   "outputs": [],
   "source": [
    "#Initialize a MinMaxScaler and scale the features to between -1 and 1 to normalize them. \n",
    "#The MinMaxScaler transforms features by scaling them to a given range.\n",
    "#The fit_transform() method fits to the data and then transforms it. We don’t need to scale the labels.\n",
    "#Scale the features to between -1 and 1\n",
    "\n",
    "# Scaling is important in the algorithms such as support vector machines (SVM) and k-nearest neighbors (KNN) where distance \n",
    "# between the data points is important.\n",
    "\n",
    "scaler=MinMaxScaler((-1,1))\n",
    "x=scaler.fit_transform(X_ros)\n",
    "y=y_ros"
   ]
  },
  {
   "cell_type": "code",
   "execution_count": 27,
   "id": "3000872c",
   "metadata": {},
   "outputs": [],
   "source": [
    "#Now,split the dataset into training and testing sets keeping 20% of the data for testing.\n",
    "#Split the dataset\n",
    "from sklearn.model_selection import train_test_split\n",
    "\n",
    "x_train,x_test,y_train,y_test=train_test_split(x, y, test_size=0.2, random_state=7)"
   ]
  },
  {
   "cell_type": "code",
   "execution_count": 28,
   "id": "32ad0e6a",
   "metadata": {},
   "outputs": [
    {
     "data": {
      "text/html": [
       "<style>#sk-container-id-1 {color: black;background-color: white;}#sk-container-id-1 pre{padding: 0;}#sk-container-id-1 div.sk-toggleable {background-color: white;}#sk-container-id-1 label.sk-toggleable__label {cursor: pointer;display: block;width: 100%;margin-bottom: 0;padding: 0.3em;box-sizing: border-box;text-align: center;}#sk-container-id-1 label.sk-toggleable__label-arrow:before {content: \"▸\";float: left;margin-right: 0.25em;color: #696969;}#sk-container-id-1 label.sk-toggleable__label-arrow:hover:before {color: black;}#sk-container-id-1 div.sk-estimator:hover label.sk-toggleable__label-arrow:before {color: black;}#sk-container-id-1 div.sk-toggleable__content {max-height: 0;max-width: 0;overflow: hidden;text-align: left;background-color: #f0f8ff;}#sk-container-id-1 div.sk-toggleable__content pre {margin: 0.2em;color: black;border-radius: 0.25em;background-color: #f0f8ff;}#sk-container-id-1 input.sk-toggleable__control:checked~div.sk-toggleable__content {max-height: 200px;max-width: 100%;overflow: auto;}#sk-container-id-1 input.sk-toggleable__control:checked~label.sk-toggleable__label-arrow:before {content: \"▾\";}#sk-container-id-1 div.sk-estimator input.sk-toggleable__control:checked~label.sk-toggleable__label {background-color: #d4ebff;}#sk-container-id-1 div.sk-label input.sk-toggleable__control:checked~label.sk-toggleable__label {background-color: #d4ebff;}#sk-container-id-1 input.sk-hidden--visually {border: 0;clip: rect(1px 1px 1px 1px);clip: rect(1px, 1px, 1px, 1px);height: 1px;margin: -1px;overflow: hidden;padding: 0;position: absolute;width: 1px;}#sk-container-id-1 div.sk-estimator {font-family: monospace;background-color: #f0f8ff;border: 1px dotted black;border-radius: 0.25em;box-sizing: border-box;margin-bottom: 0.5em;}#sk-container-id-1 div.sk-estimator:hover {background-color: #d4ebff;}#sk-container-id-1 div.sk-parallel-item::after {content: \"\";width: 100%;border-bottom: 1px solid gray;flex-grow: 1;}#sk-container-id-1 div.sk-label:hover label.sk-toggleable__label {background-color: #d4ebff;}#sk-container-id-1 div.sk-serial::before {content: \"\";position: absolute;border-left: 1px solid gray;box-sizing: border-box;top: 0;bottom: 0;left: 50%;z-index: 0;}#sk-container-id-1 div.sk-serial {display: flex;flex-direction: column;align-items: center;background-color: white;padding-right: 0.2em;padding-left: 0.2em;position: relative;}#sk-container-id-1 div.sk-item {position: relative;z-index: 1;}#sk-container-id-1 div.sk-parallel {display: flex;align-items: stretch;justify-content: center;background-color: white;position: relative;}#sk-container-id-1 div.sk-item::before, #sk-container-id-1 div.sk-parallel-item::before {content: \"\";position: absolute;border-left: 1px solid gray;box-sizing: border-box;top: 0;bottom: 0;left: 50%;z-index: -1;}#sk-container-id-1 div.sk-parallel-item {display: flex;flex-direction: column;z-index: 1;position: relative;background-color: white;}#sk-container-id-1 div.sk-parallel-item:first-child::after {align-self: flex-end;width: 50%;}#sk-container-id-1 div.sk-parallel-item:last-child::after {align-self: flex-start;width: 50%;}#sk-container-id-1 div.sk-parallel-item:only-child::after {width: 0;}#sk-container-id-1 div.sk-dashed-wrapped {border: 1px dashed gray;margin: 0 0.4em 0.5em 0.4em;box-sizing: border-box;padding-bottom: 0.4em;background-color: white;}#sk-container-id-1 div.sk-label label {font-family: monospace;font-weight: bold;display: inline-block;line-height: 1.2em;}#sk-container-id-1 div.sk-label-container {text-align: center;}#sk-container-id-1 div.sk-container {/* jupyter's `normalize.less` sets `[hidden] { display: none; }` but bootstrap.min.css set `[hidden] { display: none !important; }` so we also need the `!important` here to be able to override the default hidden behavior on the sphinx rendered scikit-learn.org. See: https://github.com/scikit-learn/scikit-learn/issues/21755 */display: inline-block !important;position: relative;}#sk-container-id-1 div.sk-text-repr-fallback {display: none;}</style><div id=\"sk-container-id-1\" class=\"sk-top-container\"><div class=\"sk-text-repr-fallback\"><pre>RandomForestClassifier(max_depth=4, random_state=10)</pre><b>In a Jupyter environment, please rerun this cell to show the HTML representation or trust the notebook. <br />On GitHub, the HTML representation is unable to render, please try loading this page with nbviewer.org.</b></div><div class=\"sk-container\" hidden><div class=\"sk-item\"><div class=\"sk-estimator sk-toggleable\"><input class=\"sk-toggleable__control sk-hidden--visually\" id=\"sk-estimator-id-1\" type=\"checkbox\" checked><label for=\"sk-estimator-id-1\" class=\"sk-toggleable__label sk-toggleable__label-arrow\">RandomForestClassifier</label><div class=\"sk-toggleable__content\"><pre>RandomForestClassifier(max_depth=4, random_state=10)</pre></div></div></div></div></div>"
      ],
      "text/plain": [
       "RandomForestClassifier(max_depth=4, random_state=10)"
      ]
     },
     "execution_count": 28,
     "metadata": {},
     "output_type": "execute_result"
    }
   ],
   "source": [
    "from sklearn.ensemble import RandomForestClassifier \n",
    "model = RandomForestClassifier(max_depth=4, random_state = 10) \n",
    "model.fit(x_train, y_train)"
   ]
  },
  {
   "cell_type": "code",
   "execution_count": 29,
   "id": "7cb9e55b",
   "metadata": {},
   "outputs": [
    {
     "data": {
      "text/plain": [
       "0.88"
      ]
     },
     "execution_count": 29,
     "metadata": {},
     "output_type": "execute_result"
    }
   ],
   "source": [
    "from sklearn.metrics import accuracy_score\n",
    "pred_cv = model.predict(x_test)\n",
    "accuracy_score(y_test,pred_cv)"
   ]
  },
  {
   "cell_type": "code",
   "execution_count": 30,
   "id": "d7d0ac87",
   "metadata": {},
   "outputs": [],
   "source": [
    "# saving the model \n",
    "import pickle \n",
    "pickle_out = open(\"classifier.pkl\", mode = \"wb\") \n",
    "pickle.dump(model, pickle_out) \n",
    "pickle_out.close()"
   ]
  },
  {
   "cell_type": "code",
   "execution_count": 31,
   "id": "9ef9bcbd",
   "metadata": {},
   "outputs": [
    {
     "data": {
      "text/plain": [
       "Index(['age', 'wc', 'htn', 'dm', 'classification'], dtype='object')"
      ]
     },
     "execution_count": 31,
     "metadata": {},
     "output_type": "execute_result"
    }
   ],
   "source": [
    "df_imputed.columns"
   ]
  },
  {
   "cell_type": "code",
   "execution_count": 32,
   "id": "719ece62",
   "metadata": {},
   "outputs": [
    {
     "name": "stdout",
     "output_type": "stream",
     "text": [
      "Writing app.py\n"
     ]
    }
   ],
   "source": [
    "%%writefile app.py\n",
    " \n",
    "import pickle\n",
    "import streamlit as st\n",
    " \n",
    "# loading the trained model\n",
    "pickle_in = open('classifier.pkl', 'rb') \n",
    "classifier = pickle.load(pickle_in)\n",
    " \n",
    "@st.cache()\n",
    "  \n",
    "# defining the function which will make the prediction using the data which the user inputs \n",
    "def prediction(age, wc, htn, dm):   \n",
    " \n",
    "    # Pre-processing user input    \n",
    "    if htn == \"no\":\n",
    "        htn = 0\n",
    "    else:\n",
    "        htn = 1\n",
    " \n",
    "    if dm == \"no\":\n",
    "        dm = 0\n",
    "    else:\n",
    "        dm = 1\n",
    " \n",
    "      \n",
    "    # Making predictions \n",
    "    prediction = classifier.predict( \n",
    "        [[age, wc, htn, dm]])\n",
    "     \n",
    "    if prediction == 0:\n",
    "        pred = 'Kidney Disease not detected'\n",
    "    else:\n",
    "        pred = 'Kidny Disease found'\n",
    "    return pred\n",
    "      \n",
    "  \n",
    "# this is the main function in which we define our webpage  \n",
    "def main():       \n",
    "    # front end elements of the web page \n",
    "    html_temp = \"\"\" \n",
    "    <div style =\"background-color:cyan;padding:13px\"> \n",
    "    <h1 style =\"color:black;text-align:center;\">Kidney Disease Prediction</h1> \n",
    "    </div> \n",
    "    \"\"\"\n",
    "      \n",
    "    # display the front end aspect\n",
    "    st.markdown(html_temp, unsafe_allow_html = True) \n",
    "      \n",
    "    # following lines create boxes in which user can enter data required to make prediction \n",
    "    htn = st.selectbox('htn',(\"no\",\"yes\"))\n",
    "    dm = st.selectbox('dm Status',(\"no\",\"yes\")) \n",
    "    age = st.number_input(\"AGE\") \n",
    "    wc = st.number_input(\"WC\")\n",
    "    result =\"\"\n",
    "      \n",
    "    # when 'Predict' is clicked, make the prediction and store it \n",
    "    if st.button(\"Predict\"): \n",
    "        result = prediction(age, wc, htn, dm) \n",
    "        st.success('Report Results: {}'.format(result))\n",
    "        \n",
    "     \n",
    "if __name__=='__main__': \n",
    "    main()"
   ]
  },
  {
   "cell_type": "code",
   "execution_count": null,
   "id": "f21f27f3",
   "metadata": {},
   "outputs": [],
   "source": []
  }
 ],
 "metadata": {
  "kernelspec": {
   "display_name": "Python 3 (ipykernel)",
   "language": "python",
   "name": "python3"
  },
  "language_info": {
   "codemirror_mode": {
    "name": "ipython",
    "version": 3
   },
   "file_extension": ".py",
   "mimetype": "text/x-python",
   "name": "python",
   "nbconvert_exporter": "python",
   "pygments_lexer": "ipython3",
   "version": "3.9.7"
  }
 },
 "nbformat": 4,
 "nbformat_minor": 5
}
